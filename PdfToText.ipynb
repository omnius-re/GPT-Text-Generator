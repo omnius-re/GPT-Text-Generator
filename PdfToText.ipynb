{
 "cells": [
  {
   "cell_type": "code",
   "execution_count": 2,
   "metadata": {},
   "outputs": [
    {
     "name": "stdout",
     "output_type": "stream",
     "text": [
      "Collecting PyPDF2\n",
      "  Downloading pypdf2-3.0.1-py3-none-any.whl (232 kB)\n",
      "Collecting typing_extensions>=3.10.0.0; python_version < \"3.10\"\n",
      "  Downloading typing_extensions-4.8.0-py3-none-any.whl (31 kB)\n",
      "Installing collected packages: typing-extensions, PyPDF2\n",
      "  Attempting uninstall: typing-extensions\n",
      "    Found existing installation: typing-extensions 3.7.4.3\n",
      "    Uninstalling typing-extensions-3.7.4.3:\n",
      "      Successfully uninstalled typing-extensions-3.7.4.3\n",
      "Successfully installed PyPDF2-3.0.1 typing-extensions-4.8.0\n",
      "Note: you may need to restart the kernel to use updated packages.\n"
     ]
    }
   ],
   "source": [
    "pip install PyPDF2"
   ]
  },
  {
   "cell_type": "code",
   "execution_count": 8,
   "metadata": {},
   "outputs": [
    {
     "name": "stdout",
     "output_type": "stream",
     "text": [
      "Collecting pycryptodome\n",
      "  Downloading pycryptodome-3.19.0-cp35-abi3-win_amd64.whl (1.7 MB)\n",
      "Installing collected packages: pycryptodome\n",
      "Successfully installed pycryptodome-3.19.0\n",
      "Note: you may need to restart the kernel to use updated packages.\n"
     ]
    }
   ],
   "source": [
    "pip install pycryptodome"
   ]
  },
  {
   "cell_type": "code",
   "execution_count": 26,
   "metadata": {},
   "outputs": [
    {
     "name": "stdout",
     "output_type": "stream",
     "text": [
      "Conversion from PDF to TXT complete. Output file saved as 'DeathNoteBB.txt'.\n"
     ]
    }
   ],
   "source": [
    "import PyPDF2\n",
    "\n",
    "# Input PDF file path\n",
    "pdf_file_path = 'Death Note Another Note_ The Los Angeles BB Murder Cases ( PDFDrive ).pdf'\n",
    "\n",
    "# Output text file path\n",
    "txt_file_path = 'DeathNoteBB.txt'\n",
    "\n",
    "# Open the PDF file in read-binary mode\n",
    "with open(pdf_file_path, 'rb') as pdf_file:\n",
    "    # Create a PDF reader object\n",
    "    pdf_reader = PyPDF2.PdfReader(pdf_file)\n",
    "\n",
    "    # Initialize an empty string to store the text\n",
    "    text = ''\n",
    "\n",
    "    # Iterate through each page in the PDF\n",
    "    for page in pdf_reader.pages:\n",
    "        # Extract text from the page\n",
    "        page_text = page.extract_text()\n",
    "        \n",
    "        # Remove the specific text if it exists\n",
    "        cleaned_text = page_text.replace(\"Goldenagato | mp4directs.com\", \"\")\n",
    "        \n",
    "        # Append the cleaned text to the result\n",
    "        text += cleaned_text\n",
    "\n",
    "# Open the output text file in write mode\n",
    "with open(txt_file_path, 'w', encoding='utf-8') as txt_file:\n",
    "    # Write the extracted text to the text file\n",
    "    txt_file.write(text)\n",
    "\n",
    "print(f\"Conversion from PDF to TXT complete. Output file saved as '{txt_file_path}'.\")\n"
   ]
  },
  {
   "cell_type": "code",
   "execution_count": null,
   "metadata": {},
   "outputs": [],
   "source": []
  }
 ],
 "metadata": {
  "kernelspec": {
   "display_name": "Python 3",
   "language": "python",
   "name": "python3"
  },
  "language_info": {
   "codemirror_mode": {
    "name": "ipython",
    "version": 3
   },
   "file_extension": ".py",
   "mimetype": "text/x-python",
   "name": "python",
   "nbconvert_exporter": "python",
   "pygments_lexer": "ipython3",
   "version": "3.8.5"
  }
 },
 "nbformat": 4,
 "nbformat_minor": 4
}
